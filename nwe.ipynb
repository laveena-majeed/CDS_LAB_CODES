{
 "cells": [
  {
   "cell_type": "code",
   "execution_count": 1,
   "metadata": {},
   "outputs": [
    {
     "name": "stdout",
     "output_type": "stream",
     "text": [
      "15\n",
      "-15\n",
      "0\n"
     ]
    }
   ],
   "source": [
    "def multiply_using_recursion(a, b):\n",
    "    # Base case: if b is 0, return 0\n",
    "    if b == 0:\n",
    "        return 0\n",
    "    # If b is positive, recursively add 'a' b times\n",
    "    elif b > 0:\n",
    "        return a + multiply_using_recursion(a, b - 1)\n",
    "    # If b is negative, reverse the sign and call the function recursively\n",
    "    else:\n",
    "        return -multiply_using_recursion(a, -b)\n",
    "\n",
    "# Test the function\n",
    "print(multiply_using_recursion(5, 3))  # Output: 15\n",
    "print(multiply_using_recursion(5, -3))  # Output: -15\n",
    "print(multiply_using_recursion(0, 5))  # Output: 0\n"
   ]
  }
 ],
 "metadata": {
  "kernelspec": {
   "display_name": "Python 3",
   "language": "python",
   "name": "python3"
  },
  "language_info": {
   "codemirror_mode": {
    "name": "ipython",
    "version": 3
   },
   "file_extension": ".py",
   "mimetype": "text/x-python",
   "name": "python",
   "nbconvert_exporter": "python",
   "pygments_lexer": "ipython3",
   "version": "3.12.0"
  }
 },
 "nbformat": 4,
 "nbformat_minor": 2
}
